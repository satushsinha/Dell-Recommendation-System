{
  "nbformat": 4,
  "nbformat_minor": 0,
  "metadata": {
    "colab": {
      "name": "webscraping.ipynb",
      "provenance": [],
      "collapsed_sections": []
    },
    "kernelspec": {
      "name": "python3",
      "display_name": "Python 3"
    }
  },
  "cells": [
    {
      "cell_type": "code",
      "metadata": {
        "id": "OLOjAiS57p9D"
      },
      "source": [
        "from selenium import webdriver\n",
        "from bs4 import BeautifulSoup\n",
        "import pandas as pd\n"
      ],
      "execution_count": null,
      "outputs": []
    },
    {
      "cell_type": "code",
      "metadata": {
        "id": "0TaP3Mma8dah",
        "outputId": "592c537f-44c2-4bc4-a907-574c6309a041",
        "colab": {
          "base_uri": "https://localhost:8080/",
          "height": 34
        }
      },
      "source": [
        "pip install beautifulsoup4"
      ],
      "execution_count": null,
      "outputs": [
        {
          "output_type": "stream",
          "text": [
            "Requirement already satisfied: beautifulsoup4 in /usr/local/lib/python3.6/dist-packages (4.6.3)\n"
          ],
          "name": "stdout"
        }
      ]
    },
    {
      "cell_type": "code",
      "metadata": {
        "id": "ZArhJOhW7zLv",
        "outputId": "9cc11429-3c73-4b3f-f105-31f23c6ba5f4",
        "colab": {
          "base_uri": "https://localhost:8080/",
          "height": 138
        }
      },
      "source": [
        "pip install selenium"
      ],
      "execution_count": null,
      "outputs": [
        {
          "output_type": "stream",
          "text": [
            "Collecting selenium\n",
            "\u001b[?25l  Downloading https://files.pythonhosted.org/packages/80/d6/4294f0b4bce4de0abf13e17190289f9d0613b0a44e5dd6a7f5ca98459853/selenium-3.141.0-py2.py3-none-any.whl (904kB)\n",
            "\u001b[K     |████████████████████████████████| 911kB 2.8MB/s \n",
            "\u001b[?25hRequirement already satisfied: urllib3 in /usr/local/lib/python3.6/dist-packages (from selenium) (1.24.3)\n",
            "Installing collected packages: selenium\n",
            "Successfully installed selenium-3.141.0\n"
          ],
          "name": "stdout"
        }
      ]
    },
    {
      "cell_type": "code",
      "metadata": {
        "id": "aBD7ag0IGx4q",
        "outputId": "b9cc9f55-c8d7-49b9-edaf-283bc47b54e0",
        "colab": {
          "base_uri": "https://localhost:8080/",
          "height": 1000
        }
      },
      "source": [
        "!apt-get update \n",
        "!apt install chromium-chromedriver\n",
        "\n",
        "from selenium import webdriver\n",
        "chrome_options = webdriver.ChromeOptions()\n",
        "chrome_options.add_argument('--headless')\n",
        "chrome_options.add_argument('--no-sandbox')\n",
        "chrome_options.add_argument('--disable-dev-shm-usage')\n",
        "wd = webdriver.Chrome('chromedriver',chrome_options=chrome_options)\n",
        "driver =webdriver.Chrome('chromedriver',chrome_options=chrome_options)\n"
      ],
      "execution_count": null,
      "outputs": [
        {
          "output_type": "stream",
          "text": [
            "\r0% [Working]\r            \rGet:1 http://security.ubuntu.com/ubuntu bionic-security InRelease [88.7 kB]\n",
            "\r0% [Connecting to archive.ubuntu.com (91.189.88.142)] [1 InRelease 14.2 kB/88.7\r0% [Connecting to archive.ubuntu.com (91.189.88.142)] [Connected to cloud.r-pro\r                                                                               \rIgn:2 https://developer.download.nvidia.com/compute/cuda/repos/ubuntu1804/x86_64  InRelease\n",
            "\r0% [Waiting for headers] [Waiting for headers] [Waiting for headers] [Waiting f\r0% [1 InRelease gpgv 88.7 kB] [Waiting for headers] [Waiting for headers] [Wait\r                                                                               \rGet:3 https://cloud.r-project.org/bin/linux/ubuntu bionic-cran35/ InRelease [3,626 B]\n",
            "Get:4 http://ppa.launchpad.net/graphics-drivers/ppa/ubuntu bionic InRelease [21.3 kB]\n",
            "Hit:5 http://archive.ubuntu.com/ubuntu bionic InRelease\n",
            "Get:6 http://archive.ubuntu.com/ubuntu bionic-updates InRelease [88.7 kB]\n",
            "Ign:7 https://developer.download.nvidia.com/compute/machine-learning/repos/ubuntu1804/x86_64  InRelease\n",
            "Hit:8 https://developer.download.nvidia.com/compute/cuda/repos/ubuntu1804/x86_64  Release\n",
            "Get:9 https://developer.download.nvidia.com/compute/machine-learning/repos/ubuntu1804/x86_64  Release [564 B]\n",
            "Get:10 https://developer.download.nvidia.com/compute/machine-learning/repos/ubuntu1804/x86_64  Release.gpg [833 B]\n",
            "Get:11 http://security.ubuntu.com/ubuntu bionic-security/main amd64 Packages [1,089 kB]\n",
            "Get:12 http://ppa.launchpad.net/marutter/c2d4u3.5/ubuntu bionic InRelease [15.4 kB]\n",
            "Get:13 http://archive.ubuntu.com/ubuntu bionic-backports InRelease [74.6 kB]\n",
            "Get:14 http://security.ubuntu.com/ubuntu bionic-security/universe amd64 Packages [897 kB]\n",
            "Get:15 http://security.ubuntu.com/ubuntu bionic-security/restricted amd64 Packages [116 kB]\n",
            "Get:16 http://security.ubuntu.com/ubuntu bionic-security/multiverse amd64 Packages [10.1 kB]\n",
            "Get:17 https://cloud.r-project.org/bin/linux/ubuntu bionic-cran35/ Packages [96.1 kB]\n",
            "Get:18 http://ppa.launchpad.net/graphics-drivers/ppa/ubuntu bionic/main amd64 Packages [43.0 kB]\n",
            "Get:20 https://developer.download.nvidia.com/compute/machine-learning/repos/ubuntu1804/x86_64  Packages [47.5 kB]\n",
            "Get:21 http://ppa.launchpad.net/marutter/c2d4u3.5/ubuntu bionic/main Sources [1,867 kB]\n",
            "Get:22 http://archive.ubuntu.com/ubuntu bionic-updates/universe amd64 Packages [1,425 kB]\n",
            "Get:23 http://archive.ubuntu.com/ubuntu bionic-updates/restricted amd64 Packages [132 kB]\n",
            "Get:24 http://archive.ubuntu.com/ubuntu bionic-updates/multiverse amd64 Packages [27.7 kB]\n",
            "Get:25 http://archive.ubuntu.com/ubuntu bionic-updates/main amd64 Packages [1,384 kB]\n",
            "Get:26 http://ppa.launchpad.net/marutter/c2d4u3.5/ubuntu bionic/main amd64 Packages [901 kB]\n",
            "Fetched 8,331 kB in 3s (2,460 kB/s)\n",
            "Reading package lists... Done\n",
            "Reading package lists... Done\n",
            "Building dependency tree       \n",
            "Reading state information... Done\n",
            "The following package was automatically installed and is no longer required:\n",
            "  libnvidia-common-440\n",
            "Use 'apt autoremove' to remove it.\n",
            "The following additional packages will be installed:\n",
            "  chromium-browser chromium-browser-l10n chromium-codecs-ffmpeg-extra\n",
            "Suggested packages:\n",
            "  webaccounts-chromium-extension unity-chromium-extension adobe-flashplugin\n",
            "The following NEW packages will be installed:\n",
            "  chromium-browser chromium-browser-l10n chromium-chromedriver\n",
            "  chromium-codecs-ffmpeg-extra\n",
            "0 upgraded, 4 newly installed, 0 to remove and 77 not upgraded.\n",
            "Need to get 79.2 MB of archives.\n",
            "After this operation, 268 MB of additional disk space will be used.\n",
            "Get:1 http://archive.ubuntu.com/ubuntu bionic-updates/universe amd64 chromium-codecs-ffmpeg-extra amd64 85.0.4183.83-0ubuntu0.18.04.2 [1,118 kB]\n",
            "Get:2 http://archive.ubuntu.com/ubuntu bionic-updates/universe amd64 chromium-browser amd64 85.0.4183.83-0ubuntu0.18.04.2 [70.3 MB]\n",
            "Get:3 http://archive.ubuntu.com/ubuntu bionic-updates/universe amd64 chromium-browser-l10n all 85.0.4183.83-0ubuntu0.18.04.2 [3,431 kB]\n",
            "Get:4 http://archive.ubuntu.com/ubuntu bionic-updates/universe amd64 chromium-chromedriver amd64 85.0.4183.83-0ubuntu0.18.04.2 [4,412 kB]\n",
            "Fetched 79.2 MB in 3s (24.3 MB/s)\n",
            "Selecting previously unselected package chromium-codecs-ffmpeg-extra.\n",
            "(Reading database ... 144579 files and directories currently installed.)\n",
            "Preparing to unpack .../chromium-codecs-ffmpeg-extra_85.0.4183.83-0ubuntu0.18.04.2_amd64.deb ...\n",
            "Unpacking chromium-codecs-ffmpeg-extra (85.0.4183.83-0ubuntu0.18.04.2) ...\n",
            "Selecting previously unselected package chromium-browser.\n",
            "Preparing to unpack .../chromium-browser_85.0.4183.83-0ubuntu0.18.04.2_amd64.deb ...\n",
            "Unpacking chromium-browser (85.0.4183.83-0ubuntu0.18.04.2) ...\n",
            "Selecting previously unselected package chromium-browser-l10n.\n",
            "Preparing to unpack .../chromium-browser-l10n_85.0.4183.83-0ubuntu0.18.04.2_all.deb ...\n",
            "Unpacking chromium-browser-l10n (85.0.4183.83-0ubuntu0.18.04.2) ...\n",
            "Selecting previously unselected package chromium-chromedriver.\n",
            "Preparing to unpack .../chromium-chromedriver_85.0.4183.83-0ubuntu0.18.04.2_amd64.deb ...\n",
            "Unpacking chromium-chromedriver (85.0.4183.83-0ubuntu0.18.04.2) ...\n",
            "Setting up chromium-codecs-ffmpeg-extra (85.0.4183.83-0ubuntu0.18.04.2) ...\n",
            "Setting up chromium-browser (85.0.4183.83-0ubuntu0.18.04.2) ...\n",
            "update-alternatives: using /usr/bin/chromium-browser to provide /usr/bin/x-www-browser (x-www-browser) in auto mode\n",
            "update-alternatives: using /usr/bin/chromium-browser to provide /usr/bin/gnome-www-browser (gnome-www-browser) in auto mode\n",
            "Setting up chromium-chromedriver (85.0.4183.83-0ubuntu0.18.04.2) ...\n",
            "Setting up chromium-browser-l10n (85.0.4183.83-0ubuntu0.18.04.2) ...\n",
            "Processing triggers for hicolor-icon-theme (0.17-2) ...\n",
            "Processing triggers for mime-support (3.60ubuntu1) ...\n",
            "Processing triggers for man-db (2.8.3-2ubuntu0.1) ...\n"
          ],
          "name": "stdout"
        },
        {
          "output_type": "stream",
          "text": [
            "/usr/local/lib/python3.6/dist-packages/ipykernel_launcher.py:9: DeprecationWarning: use options instead of chrome_options\n",
            "  if __name__ == '__main__':\n",
            "/usr/local/lib/python3.6/dist-packages/ipykernel_launcher.py:10: DeprecationWarning: use options instead of chrome_options\n",
            "  # Remove the CWD from sys.path while we load stuff.\n"
          ],
          "name": "stderr"
        }
      ]
    },
    {
      "cell_type": "code",
      "metadata": {
        "id": "KBu5bp6ZHKxM",
        "outputId": "13c7a737-3965-4c8c-d7b0-c8797dc69d36",
        "colab": {
          "base_uri": "https://localhost:8080/",
          "height": 50
        }
      },
      "source": [
        "driver =webdriver.Chrome('chromedriver',chrome_options=chrome_options)"
      ],
      "execution_count": null,
      "outputs": [
        {
          "output_type": "stream",
          "text": [
            "/usr/local/lib/python3.6/dist-packages/ipykernel_launcher.py:1: DeprecationWarning: use options instead of chrome_options\n",
            "  \"\"\"Entry point for launching an IPython kernel.\n"
          ],
          "name": "stderr"
        }
      ]
    },
    {
      "cell_type": "code",
      "metadata": {
        "id": "93leiXpTyJ-4"
      },
      "source": [
        "products=[] #List to store name of the product\n",
        "prices=[] #List to store price of the product\n",
        "ratings=[] #List to store rating of the product\n",
        "descriptions=[] #List to store the description of the product\n",
        "href_list=[]\n",
        "reviews=[]"
      ],
      "execution_count": null,
      "outputs": []
    },
    {
      "cell_type": "code",
      "metadata": {
        "id": "HSwmkXHsHa54"
      },
      "source": [
        "driver.get(\"https://www.flipkart.com/laptops/pr?sid=6bo%2Cb5g&p%5B%5D=facets.brand%255B%255D%3DDell&pageUID=1591709957426&otracker=clp_metro_expandable_2_26.metroExpandable.METRO_EXPANDABLE_Dell_laptops-store_ATZ0N15AZUUY_wp14&fm=neo%2Fmerchandising&iid=M_07916983-2010-4298-b0c9-9491ce5ad282_26.ATZ0N15AZUUY&ppt=clp&ppn=laptops-store&ssid=8af9ufbjkw0000001599985602004&page=2\")"
      ],
      "execution_count": null,
      "outputs": []
    },
    {
      "cell_type": "code",
      "metadata": {
        "id": "O13Vw7IyHxJe"
      },
      "source": [
        "content = driver.page_source\n",
        "soup = BeautifulSoup(content)\n",
        "for a in soup.findAll('a', href=True , attrs={'class':'_31qSD5'}):\n",
        "  name=a.find('div',{'class':'_3wU53n'})\n",
        "  price=a.find('div', attrs={'class':'_1vC4OE _2rQ-NK'})\n",
        "  description=a.find('div', attrs={'class':'_3ULzGw'})\n",
        "  rating=a.find('div', attrs={'class':'hGSR34'})\n",
        "\n",
        "  products.append(name.text)\n",
        "  prices.append(price.text)\n",
        "  descriptions.append(description.text)\n",
        "  try:\n",
        "    ratings.append(rating.text)\n",
        "  except:\n",
        "    ratings.append(0)"
      ],
      "execution_count": null,
      "outputs": []
    },
    {
      "cell_type": "code",
      "metadata": {
        "id": "T9CKBc66_ed2",
        "outputId": "35be304c-f6c5-40af-ff12-251e15d4f30d",
        "colab": {
          "base_uri": "https://localhost:8080/",
          "height": 34
        }
      },
      "source": [
        "len(prices)"
      ],
      "execution_count": null,
      "outputs": [
        {
          "output_type": "execute_result",
          "data": {
            "text/plain": [
              "38"
            ]
          },
          "metadata": {
            "tags": []
          },
          "execution_count": 120
        }
      ]
    },
    {
      "cell_type": "code",
      "metadata": {
        "id": "sU_Oe_HArsiW"
      },
      "source": [
        "for a in soup.findAll('a', href=True , attrs={'class':'_31qSD5'}):\n",
        "  href_list.append(a['href'])"
      ],
      "execution_count": null,
      "outputs": []
    },
    {
      "cell_type": "code",
      "metadata": {
        "id": "k28YyU8Qdvhb",
        "outputId": "cfc21cf2-021a-4d55-d934-954c39810108",
        "colab": {
          "base_uri": "https://localhost:8080/",
          "height": 34
        }
      },
      "source": [
        "len(href_list)"
      ],
      "execution_count": null,
      "outputs": [
        {
          "output_type": "execute_result",
          "data": {
            "text/plain": [
              "38"
            ]
          },
          "metadata": {
            "tags": []
          },
          "execution_count": 122
        }
      ]
    },
    {
      "cell_type": "code",
      "metadata": {
        "id": "XuNSdpOsvE3E"
      },
      "source": [
        "for i in href_list:\n",
        "\n",
        "  driver.get(\"https://www.flipkart.com\" + i)\n",
        "  try:\n",
        "    driver.find_elements_by_class_name(\"_1EPkIx\")[0].click()\n",
        "  except:\n",
        "    continue\n",
        "  content = driver.page_source\n",
        "  soup = BeautifulSoup(content)\n",
        "  try:\n",
        "    reviews.append(soup.find('div', attrs={'class':'qwjRop'}).text)\n",
        "  except:\n",
        "    reviews.append(\"No reviews for this Laptop\")\n",
        "\n",
        "\n"
      ],
      "execution_count": null,
      "outputs": []
    },
    {
      "cell_type": "code",
      "metadata": {
        "id": "JfM2zSMd3xHb",
        "outputId": "62ce3a26-0b89-4a75-a666-23d52a279a8b",
        "colab": {
          "base_uri": "https://localhost:8080/",
          "height": 34
        }
      },
      "source": [
        "len(reviews)"
      ],
      "execution_count": null,
      "outputs": [
        {
          "output_type": "execute_result",
          "data": {
            "text/plain": [
              "38"
            ]
          },
          "metadata": {
            "tags": []
          },
          "execution_count": 142
        }
      ]
    },
    {
      "cell_type": "code",
      "metadata": {
        "id": "MzjTGe8wAM9q",
        "outputId": "62913c46-d316-44c6-e7fe-6ff1cf4668ec",
        "colab": {
          "base_uri": "https://localhost:8080/",
          "height": 675
        }
      },
      "source": [
        "reviews"
      ],
      "execution_count": null,
      "outputs": [
        {
          "output_type": "execute_result",
          "data": {
            "text/plain": [
              "[\"It's been 2 days since the purchase of this product. It was the best bargain at that price. With i5 intel processor, ssd and hdd drive, 8 Gb ram, ms office... It was a steal deal. I'm really really happy with product. The design isn't that great and there was no color option as such but it does its job with precision. The start up is less than 10 secs which is like awesome. The battery back up too lasts for like 5 hours and I'm jus doing my normal office work with the music playing in the background. All in all I must say this the best you can get for the price. 🙂READ MORE\",\n",
              " 'Not good at all... Vision is also not clear and the system is very slow..... Not satisfied with the product.... And model is very old.....READ MORE',\n",
              " 'After 1 week of usage the laptop performance is good, battery backup is not upto the mark as promised However it is giving around 5 hours, good storage space..READ MORE',\n",
              " 'The best config for kids. Runs most of the games and fast as well. Comes bundled with Win10 n MS office’19. For that price this is the best. And overall Dell is Dell. Simply go for it. Ordered it on 24th received it on 25th during the July’20 lockdown. Could be the fastest delivery by eKart.READ MORE',\n",
              " 'No reviews for this Laptop',\n",
              " 'Display is 220nits bright( Sufficient for daily tasks & gaming), Excellent Performance , Awesome looks, Dell Alienware command center pre installed , McAfee pre installed , MS Office Home & Student 2019 Pre Activated , Benchmarks:Novabenchmark : Cpu i7 9750h - 1200 ( which is            above average all i7 9750h Benchmarks )                                  Gpu gtx 1650 - 759 ( which is above  all gtx 1650 Benchmarks)Overall happy😁READ MORE',\n",
              " 'No reviews for this Laptop',\n",
              " 'Too good laptop look wise performance wise very goodREAD MORE',\n",
              " 'No reviews for this Laptop',\n",
              " 'this is good product. i got it in sell at quite stealing price and happy about the performance in this budget. however it does not come with MS office activated. I had to take follow up with first dell team and then MS Online support and they resolved it online.READ MORE',\n",
              " 'No reviews for this Laptop',\n",
              " 'No reviews for this Laptop',\n",
              " \"The laptop is really beautiful and I appreciate the fact that the focus has been put on functional aspects and not on gimmicks like touchscreen and tablet mode.The laptop is a portable light weight and solid build. At 1.4 kg, it is easy to carry around and has decent battery life. I haven't tested it to fullest in 2 days of my ownership but 4 -5 hours of backup is there.The good:Light weight portable laptop with beautiful form factor. Low to no heating even on continuous usage either kept on bed or your lap. Haven't experienced any stutter, i7 8th gen processor with 8 gb ddr4 ram and 256 gb ssd are capable enough for everyday task. 2 gb DDR5 ATI radeon graphics are a plus. The key board and mouse are responsive and I haven't missed any keys like i used to on my old hp envy.The bad: The display is not very great and I expected higher quality screen on a laptop of this price. The speakers are OK, not great. My verdict:A better screen and speaker would have made this laptop the best. Otherwise, with portability and power it packs, it is a good daily driver and a looker.READ MORE\",\n",
              " 'No reviews for this Laptop',\n",
              " 'No reviews for this Laptop',\n",
              " 'No reviews for this Laptop',\n",
              " \"Can't believe battery doesn't get charged in brand new machines. Replacement product had exactly the same issue. Both DELL and flipcart should stop selling this product until manufacturing defect is rectifiedREAD MORE\",\n",
              " 'No reviews for this Laptop',\n",
              " 'best boot time of approx 15 sec due to ssd and faster unlock by fingerprint scanner. perfect choice to run heavy software for students. minimal heating and noise while running in harsh conditions. platinum silver colour gives nice look. dell phone connect and other performance analysis apps pre installed are also good features. ssd storage must have to be increasedREAD MORE',\n",
              " \"It's a beast of a machine, but Dell kinda didn't get it right with the design I guess. Like others have pointed, it does get hot while gaming, like really hot ( around 105). Initially, I had System restart  issues  while gaming, but that got sorted after driver updates. Make sure you download the driver from AMD and it should work. Overall I am happy with the purchase. Hope future Driver/bios updates iron out all issues.READ MORE\",\n",
              " 'Excellent product for general computing ( MS office products , email , web surfing etc. )i3 10th Gen processor is magically fast and works extremely smooth. Touchscreen also works perfectly without any hassle. Delivery and packing by Flipkart was upto the mark. I am happy with my purchase .READ MORE',\n",
              " 'No reviews for this Laptop',\n",
              " 'Cool laptopREAD MORE',\n",
              " 'No reviews for this Laptop',\n",
              " 'No reviews for this Laptop',\n",
              " \"it's good , it's performance is better than my last pc which is not a gaming laptop anyway. only issue is with it's display if sit in sun shade you can't see all the details perfectly other than that it's display is good . Has a good gaming experience with it. You also gonna get a month free McAfee trial, and after that you can also get 15 months free trail by McAfee. Better use both so that on total it becomes 16 months .                    Now going to the programmers it's gonna be good for it's look rather the other gaming laptops which has very unusual look.                                                                   It's battery is good which stays up to 4+ hours on normal usage and 2+ hours for gaming(moderate) 1.30 hrs for vigorous gaming.                                              I recommend it to buy to you all.READ MORE\",\n",
              " \"The laptop is fairly slim though it has a optical drive. It has a textured panel on the top which is good and the matt black color gives it a simple look. It takes less than a minute to boot the laptop. I disabled few startup apps and Services from task manager which improved the booting time. Though it has a 8th generation core i5 CPU the performance is slow at times. Apps don't respond on a single/ double click and take time to load. This might be due to the presence of HDD and absence of SSD. However, in this price range there is no laptop with Intel i5 processor which offers SSD with large storage(Except for Asus). Sound front the inbuilt speaker is loud enough if you are listening in a quiet place. With background noise even with high volume the sound is inaudible. The quality is crisp and clear though. Keyboard is NOT backlit and is a bit cramped to my liking. The arrow keys are small and need sometime to get adjusted to. Battery life is around 5 to 6 hours with moderate usage like browsing, working on documents etc. When playing games the battery takes a toll as the Radeon graphics card comes into play drawing more power to deliver good gaming experience. Games like Asphalt 9, Asphalt Xtreme play smoothly without any lag. I have not tried PUBG but it should run fine with medium graphics setting. If you want a laptop with fast response opt for a one with SSD. If you are budget is around 45 to 50K this laptop is decent. One of the main reasons for buying this laptop was pre-installed MS OFFICE and good price in exchange for my old Dell Vostro 3550. I hope my review helps buyers to choose a laptop as per their needs.READ MORE\",\n",
              " 'No reviews for this Laptop',\n",
              " \"review after a week's use.the laptop is good for day to day work and gives good performance.pros are evident in the product description, highliting few cons here-1. battery backup is around 2 hours at high performance. (you have the option to choose high performance, battery saver or medium performance).2. No LED indicator for power button, power on/off, Fn mode, num lock or any other indicator. there is one LED at the bottom which can be flipped between charging indicator & hard disk activity indicator. major drawback.3. device performance is impacted when McAfee is running constantly and if a Microsoft account is used for login user. switched to local account and suspended McAfee, working fine now.4. sound quality is nothing extraordinary but sufficient for daily use. not highly recommended if you're taking webex meetings over device audio/mic. 5. available storage is 1.8TB and you must give minimum 0.9GB to C drive if you're partitioning it.6. USB ports are slightly hard but not a drawback.7. takes around 4-5mins for start up and a minute to shut down (without windows updates)Thanks.READ MORE\",\n",
              " \"The laptop is really beautiful and I appreciate the fact that the focus has been put on functional aspects and not on gimmicks like touchscreen and tablet mode.The laptop is a portable light weight and solid build. At 1.4 kg, it is easy to carry around and has decent battery life. I haven't tested it to fullest in 2 days of my ownership but 4 -5 hours of backup is there.The good:Light weight portable laptop with beautiful form factor. Low to no heating even on continuous usage either kept on bed or your lap. Haven't experienced any stutter, i7 8th gen processor with 8 gb ddr4 ram and 256 gb ssd are capable enough for everyday task. 2 gb DDR5 ATI radeon graphics are a plus. The key board and mouse are responsive and I haven't missed any keys like i used to on my old hp envy.The bad: The display is not very great and I expected higher quality screen on a laptop of this price. The speakers are OK, not great. My verdict:A better screen and speaker would have made this laptop the best. Otherwise, with portability and power it packs, it is a good daily driver and a looker.READ MORE\",\n",
              " 'The Laptop config I purchased was: Intel i7 7th Gen, 256GB SSD, 1 TB SATA, 16 GB RAM, Nvidia 1050Ti GTX Graphics Card. There was an exchange scheme available at that time and I got a massive discount of rupees 20000 on my old laptop. The config of old laptop was Acer Aspire-5740 that has i3 Processor and build year was 2010. This was a special summer offer provided by Dell and one additional promotional discount offered by Flipkart. (MRP price listed Rs. 1,14,290  + Pick up charge Rs. 100) – (Exchange discount Rs. 20000 + Promotion Discount Rs 2000) = Rs 92,390So, effective price was Rs 92,390. Great discount possible through combine efforts of Dell and Flipkart. I do not need to tell further that it was a lightning deal.To begin with, I purchased this laptop on 22nd May 2017. So, effectively I have used this laptop for almost 4 months. After an extensive use of this laptop I am writing detailed review. This laptop is available in two colors Red and Black. The red color was not available so I purchased the black one. As, I can see Red color is still not available.Beginning with build Features1.\\tThe laptop has black matt finish and I have not found any problem with that. It has a rubbery feel and texture. The Laptop screen has TN Panel, most of us definitely wanted IPS panel. In India,  IPS panel for this model is not available yet. The best thing about TN panel is that you will get a battery backup of around 10 hours on web browsing and guys it is really a boon for those who do not want to spend most of their time near wall socket. But those who cannot compromise with IPS Panel, it is a missing feature.2.\\tThe Laptop keyboard is really cool, it has Red LED backlit with three intensity level. The touchpad is also great. I am an ardent fan of wireless mouse, so I do not use touch pad that much. 3.\\tIt has rear-exiting cooling vents with dual cooling fans and NVIDIA GeForce graphic with advanced thermal cooling design. There is no such heating issue with laptop. The Graphic card works smooth even at the maximum throughput. I have tested rigorously, both intel I7 processor and graphic card  to full throttle i.e. using all the cores of both the processor and graphic at same time. But that was insane you are never going to use both the devils at same time at full throttle. So be assured this laptop is robust and come out as champ and shows cool temperament  all the time like Indian Skipper Dhoni. 4.\\tThe Laptop has 3 USB slots, 1 LAN Port, 1 HDMI, 1 3.5 mm Jack and 1 SD-CARD Reader. There is no thunderbolt in this laptop and I think this feature is a must in such high-end laptop. 5.\\tIt takes around 2.2 hours to charge the battery and yeah battery is huge. With extensive use battery will last around 6 hours. For normal web browsing it will last around 10 hours. I have already mentioned about backup in point 1.6.\\tThe laptop speakers are above average but not anything special about them. I prefer to use headphones. All the famous youtubers/channels make adult comedy. So, headphone is the need of hour.Coming to Performance of laptop7.\\tThe day I switched on laptop first time, it hardly took 5 seconds to boot the windows.  A great thanks to combination of 256 GB SSD + 16 GB RAM. Though it has not the state-of-art SSD but it works smooth.8.\\tFrom Adobe photoshop, Illustrator to Adobe Video Editing. It works smooth, thanks again to i7 , 256 SSD and 16 GB RAM. For video editing, SSD and 8 GB Ram is must. This laptop configuration surpasses all the basic limits.9.\\tThough, I am not a gaming enthusiast but throw any game at it. The NVIDIA 1050Ti will never disappoint you. The Difference b/w 1050 and 1050 Ti is that “Ti” is the energy efficient design from NVIDIA and consumes less battery and generates less heat.10.\\tI have also done mining on this laptop, it works fine. Though, I will not suggest you to do so because mining consumes lots of battery and consistently using processor and graphic at full throttle for hours should be avoided. Open rigs are best for such purpose. No doubt this laptop is a beast but take care of it. You are Aladdin and your beast is Genie. It will never fail you in long run.11.\\tFor long term investment, this laptop is great. There will be no problem regarding H/W upgradation, it is one of the best of its times. Also, you can extend your RAM up to 32 GB. Five years down the line, I do not see any problems for such a beast.12.\\tYou get factory installed Windows 10 on 256 GB SSD. Apart from that I installed windows 7 and Ubuntu as dual boot on 1 TB storage. Yeah, Dell has no support for drivers regarding Windows 7 but I managed to do that. Anyone who needs the driver for Windows 7 can post the question, I will share the link. Please remember it is unofficial, Dell cannot provide any support for Windows 7.13.\\tThere were no additional accessories provided with the laptop. 5 STARS as it solves my purpose.  Knowledge is all about sharing. Cheers!!!!READ MORE',\n",
              " 'Good however my Lenovo laptop works more fast and had more good display which was less priced tooREAD MORE',\n",
              " 'Don\"t Buy Any Costly Products Like Laptop Because this people takes money sell Defective item Now Go On this Lockdown Period for warentty Company for hardware defectiveREAD MORE',\n",
              " 'No reviews for this Laptop',\n",
              " 'No reviews for this Laptop',\n",
              " 'very niceREAD MORE',\n",
              " 'very good looking ,very slimREAD MORE',\n",
              " 'purchased at 75k.price to performance ratio(8th gen with 8gb ram 128gb SSD) working smooth.design is better compared to other brands at this price.battery life is enough between 3-4 hours as mentioned loved that thing.This laptop is for those who is using heavy software and some mid range gaming.overall I will say good to buy.READ MORE']"
            ]
          },
          "metadata": {
            "tags": []
          },
          "execution_count": 125
        }
      ]
    },
    {
      "cell_type": "code",
      "metadata": {
        "id": "Hgnm6UReAOPl"
      },
      "source": [
        "df = pd.DataFrame({'Product Name':products,'Price':prices,'Features':descriptions, 'Rating':ratings, 'Review':reviews})\n",
        "df.to_csv('products.csv', index=False, encoding='utf-8')"
      ],
      "execution_count": null,
      "outputs": []
    }
  ]
}